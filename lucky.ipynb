{
 "cells": [
  {
   "cell_type": "code",
   "execution_count": 6,
   "metadata": {},
   "outputs": [],
   "source": [
    "L1 = [3,1]\n",
    "L2 = [1,10,1]"
   ]
  },
  {
   "cell_type": "code",
   "execution_count": 13,
   "metadata": {},
   "outputs": [
    {
     "name": "stdout",
     "output_type": "stream",
     "text": [
      "[4.0, 1.3333333333333333, 4.666666666666667, 6.0]\n",
      "Case #1: 6.0\n"
     ]
    }
   ],
   "source": [
    "m = sum(L2)/L1[0]\n",
    "maxinl = max(L2)\n",
    "nmax = L2.count(maxinl)\n",
    "dp = []\n",
    "\n",
    "ret = 0\n",
    "for i in L2:\n",
    "    ret += i/len(L2)\n",
    "dp.append(ret)\n",
    "ret = 0\n",
    "if L1[1] >= 1:\n",
    "    for k in range(L1[1])    \n",
    "        for i in range(len(L2)):\n",
    "            ret += max(L2[i],dp[0])/len(L2)\n",
    "            dp.append(ret)\n",
    "#p = 1-pn\n",
    "#mn = 0\n",
    "#for i in L2:\n",
    "#    if i != maxinl:\n",
    "#        mn += i\n",
    "#if len(L2)-nmax == 0:\n",
    "#    mn = 0\n",
    "#else:\n",
    "#    mn /= (len(L2)-nmax)\n",
    "#ret = maxinl*p + mn*pn \n",
    "print(dp)\n",
    "print(f'Case #{1}: {dp[len(dp)-1]}')"
   ]
  }
 ],
 "metadata": {
  "kernelspec": {
   "display_name": "Python 3",
   "language": "python",
   "name": "python3"
  },
  "language_info": {
   "codemirror_mode": {
    "name": "ipython",
    "version": 3
   },
   "file_extension": ".py",
   "mimetype": "text/x-python",
   "name": "python",
   "nbconvert_exporter": "python",
   "pygments_lexer": "ipython3",
   "version": "3.11.0rc2"
  },
  "orig_nbformat": 4,
  "vscode": {
   "interpreter": {
    "hash": "ead1b95f633dc9c51826328e1846203f51a198c6fb5f2884a80417ba131d4e82"
   }
  }
 },
 "nbformat": 4,
 "nbformat_minor": 2
}
