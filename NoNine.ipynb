{
 "cells": [
  {
   "cell_type": "code",
   "execution_count": 3,
   "metadata": {},
   "outputs": [],
   "source": [
    "F = 88\n",
    "L = 102"
   ]
  },
  {
   "cell_type": "code",
   "execution_count": 4,
   "metadata": {},
   "outputs": [
    {
     "name": "stdout",
     "output_type": "stream",
     "text": [
      "4\n"
     ]
    }
   ],
   "source": [
    "\n",
    "    c = 0\n",
    "    for i in range(F, L+1):\n",
    "        tmp = str(i)\n",
    "        ninebool = False\n",
    "        for j in tmp:\n",
    "            if j == '9':\n",
    "                ninebool = True\n",
    "                break\n",
    "        if not ninebool:\n",
    "            if i % 9 == 0:\n",
    "                ninebool = True\n",
    "            else:\n",
    "                c += 1\n",
    "print(c)"
   ]
  },
  {
   "cell_type": "code",
   "execution_count": 15,
   "metadata": {},
   "outputs": [
    {
     "name": "stdout",
     "output_type": "stream",
     "text": [
      "Case #1: 342923\n"
     ]
    }
   ],
   "source": [
    "T = int(input())\n",
    "\n",
    "for x in range(T):\n",
    "    inp = str(input())\n",
    "    inp = inp.split(' ')\n",
    "    F = int(inp[0])\n",
    "    L = int(inp[1])\n",
    "    c = 0\n",
    "    lastdiv = -1\n",
    "    firstnine = False\n",
    "    for i in range(F, L+1):\n",
    "        tmp = str(i)\n",
    "        ninebool = False\n",
    "        for j in tmp:\n",
    "            if j == '9':\n",
    "                ninebool = True\n",
    "                break\n",
    "        \n",
    "        if firstnine:       \n",
    "            if lastdiv + 9 == i:\n",
    "                    lastdiv = lastdiv+9\n",
    "                    ninebool = True\n",
    "            else:\n",
    "                c += 1\n",
    "\n",
    "        if not ninebool and not firstnine:\n",
    "            if i % 9 == 0:\n",
    "                lastdiv = i\n",
    "                firstnine = True\n",
    "            else:\n",
    "                c += 1\n",
    "    print('Case #{}: {}'.format(x+1, c))"
   ]
  }
 ],
 "metadata": {
  "kernelspec": {
   "display_name": "Python 3",
   "language": "python",
   "name": "python3"
  },
  "language_info": {
   "codemirror_mode": {
    "name": "ipython",
    "version": 3
   },
   "file_extension": ".py",
   "mimetype": "text/x-python",
   "name": "python",
   "nbconvert_exporter": "python",
   "pygments_lexer": "ipython3",
   "version": "3.11.0rc2"
  },
  "orig_nbformat": 4,
  "vscode": {
   "interpreter": {
    "hash": "ca3ed784184f1b3bb7c3539bfb45e71710cd27667424f92c2d5bb4df9c107c23"
   }
  }
 },
 "nbformat": 4,
 "nbformat_minor": 2
}
